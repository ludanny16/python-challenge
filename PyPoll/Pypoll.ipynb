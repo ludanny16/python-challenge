{
 "cells": [
  {
   "cell_type": "code",
   "execution_count": 1,
   "metadata": {
    "collapsed": true
   },
   "outputs": [],
   "source": [
    "# Dependencies\n",
    "import csv"
   ]
  },
  {
   "cell_type": "code",
   "execution_count": 2,
   "metadata": {
    "collapsed": true
   },
   "outputs": [],
   "source": [
    "#input and output files \n",
    "file_to_load = \"election_data_2.csv\"\n",
    "file_to_output = \"election_data_2.txt\""
   ]
  },
  {
   "cell_type": "code",
   "execution_count": null,
   "metadata": {
    "collapsed": true
   },
   "outputs": [],
   "source": [
    "with open(file_to_load, \"r\") as election_data:\n",
    "    reader = csv.reader(election_data, delimiter =\",\")\n",
    "    len(list(reader))\n",
    "    print(row_count)"
   ]
  },
  {
   "cell_type": "code",
   "execution_count": 3,
   "metadata": {
    "collapsed": true
   },
   "outputs": [],
   "source": [
    "# Read the csv and convert it into a list of dictionaries\n",
    "\n",
    "Candidates=[]\n",
    "\n",
    "with open(file_to_load, newline=\"\") as election_data:\n",
    "    csv_reader = csv.reader(election_data, delimiter=\",\")\n",
    "\n",
    "    # Skip Headers  \n",
    "    next(csv_reader, None)\n",
    "\n",
    "    # Loop \n",
    "    for row in csv_reader:\n",
    "        Candidates.append(row[2]) # Update candidate list\n"
   ]
  },
  {
   "cell_type": "code",
   "execution_count": 4,
   "metadata": {
    "collapsed": true
   },
   "outputs": [],
   "source": [
    "# Vote Summary\n",
    "total_votes=len(Candidates)\n",
    "c_list=set(Candidates)\n",
    "c_list=[i for i in c_list]\n",
    "vote_counts=[Candidates.count(i) for i in c_list]\n",
    "vote_percent= [((Candidates.count(i)/total_votes)*100) for i in c_list]\n",
    "vote_percent= [round(i,3) for i in vote_percent]\n",
    "\n",
    "max_vote=max(vote_counts)\n",
    "\n",
    "\n",
    "mx, vid = max( (vote_counts[i],i) for i in range(len(vote_counts)) )\n",
    "\n",
    "win=c_list[vid]"
   ]
  },
  {
   "cell_type": "code",
   "execution_count": 5,
   "metadata": {},
   "outputs": [
    {
     "name": "stdout",
     "output_type": "stream",
     "text": [
      "Election Results\n",
      "-------------------------\n",
      "Total Votes: 3521001\n",
      "-------------------------\n",
      "Khan: 63.0% (2218231)\n",
      "Correy: 20.0% (704200)\n",
      "Li: 14.0% (492940)\n",
      "O'Tooley: 3.0% (105630)\n",
      "-------------------------\n",
      "Winner: Khan\n",
      "-------------------------\n"
     ]
    }
   ],
   "source": [
    "# printing vote summary \n",
    "    \n",
    "print('Election Results')\n",
    "print('-------------------------')\n",
    "print('Total Votes: ' + str(total_votes) )\n",
    "print('-------------------------')\n",
    "\n",
    "c_num=0\n",
    "for i in c_list:\n",
    "    print(i + ': ' + str(vote_percent[c_num])+'% '+ '(' + str(vote_counts[c_num]) + ')' )\n",
    "    c_num+=1\n",
    "\n",
    "print('-------------------------')\n",
    "\n",
    "print('Winner: ' + str(win)) \n",
    "\n",
    "print('-------------------------')"
   ]
  },
  {
   "cell_type": "code",
   "execution_count": 6,
   "metadata": {},
   "outputs": [
    {
     "data": {
      "text/plain": [
       "<function TextIOWrapper.close>"
      ]
     },
     "execution_count": 6,
     "metadata": {},
     "output_type": "execute_result"
    }
   ],
   "source": [
    "#export to text file\n",
    "myfile= open(file_to_output,'w')\n",
    "myfile.write('Election Results'+ '\\n')\n",
    "myfile.write('-------------------------'+ '\\n')\n",
    "myfile.write('Total Votes: ' + str(total_votes)+ '\\n')\n",
    "c_num=0\n",
    "for i in c_list:\n",
    "    myfile.write(i + ': ' + str(vote_percent[c_num])+'% '+ '(' + str(vote_counts[c_num]) + ')'+ '\\n')\n",
    "    c_num+=1\n",
    "myfile.write('-------------------------'+ '\\n')\n",
    "myfile.write('Winner: ' + str(win)+ '\\n')\n",
    "myfile.write('-------------------------'+ '\\n')\n",
    "\n",
    "myfile.close"
   ]
  },
  {
   "cell_type": "code",
   "execution_count": null,
   "metadata": {
    "collapsed": true
   },
   "outputs": [],
   "source": []
  }
 ],
 "metadata": {
  "kernelspec": {
   "display_name": "Python 3",
   "language": "python",
   "name": "python3"
  },
  "language_info": {
   "codemirror_mode": {
    "name": "ipython",
    "version": 3
   },
   "file_extension": ".py",
   "mimetype": "text/x-python",
   "name": "python",
   "nbconvert_exporter": "python",
   "pygments_lexer": "ipython3",
   "version": "3.6.2"
  }
 },
 "nbformat": 4,
 "nbformat_minor": 2
}
