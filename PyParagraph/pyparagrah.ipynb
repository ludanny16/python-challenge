{
 "cells": [
  {
   "cell_type": "code",
   "execution_count": 3,
   "metadata": {
    "collapsed": true
   },
   "outputs": [],
   "source": [
    "#Read Text File 1\n",
    "with open('paragraph_1.txt', 'r') as file:\n",
    "    file_contents = file.read()"
   ]
  },
  {
   "cell_type": "code",
   "execution_count": 4,
   "metadata": {
    "collapsed": true
   },
   "outputs": [],
   "source": [
    "# Define global variable\n",
    "num_words=len(file_contents.split())\n",
    "num_sent=file_contents.count('.')\n",
    "num_letter=0"
   ]
  },
  {
   "cell_type": "code",
   "execution_count": 5,
   "metadata": {},
   "outputs": [],
   "source": [
    "# Use Loop to find number of letter\n",
    "for line in file_contents:\n",
    "        wordlist=line.split()\n",
    "        num_letter+= len(line)"
   ]
  },
  {
   "cell_type": "code",
   "execution_count": 6,
   "metadata": {},
   "outputs": [],
   "source": [
    "# Calculation \n",
    "average_sentence=round(float(num_words)/float(num_sent),2)\n",
    "\n",
    "average_letters=(float(num_letter)/float(num_words))"
   ]
  },
  {
   "cell_type": "code",
   "execution_count": 7,
   "metadata": {},
   "outputs": [
    {
     "name": "stdout",
     "output_type": "stream",
     "text": [
      "----------------\n",
      "Paragrah Analysis #1\n",
      "----------------\n",
      "Approximate Word Count: 130\n",
      "Approximate Sentence Count: 5\n",
      "Average Letter Count: 7.384615384615385\n",
      "Average Sentence Length: 26.0\n",
      "----------------\n"
     ]
    }
   ],
   "source": [
    "#Output\n",
    "print(\"----------------\")\n",
    "print(\"Paragrah Analysis #1\")\n",
    "print(\"----------------\")\n",
    "print(\"Approximate Word Count:\", num_words)\n",
    "print(\"Approximate Sentence Count:\", num_sent)\n",
    "print(\"Average Letter Count:\", average_letters)\n",
    "print(\"Average Sentence Length:\", average_sentence,)\n",
    "print(\"----------------\")"
   ]
  },
  {
   "cell_type": "code",
   "execution_count": 8,
   "metadata": {},
   "outputs": [],
   "source": [
    "#Read Text File 2\n",
    "with open('paragraph_2.txt', 'r') as file:\n",
    "    file_contents = file.read()"
   ]
  },
  {
   "cell_type": "code",
   "execution_count": 9,
   "metadata": {},
   "outputs": [],
   "source": [
    "# Define global variable\n",
    "num_words=len(file_contents.split())\n",
    "num_sent=file_contents.count('.')\n",
    "num_letter=0"
   ]
  },
  {
   "cell_type": "code",
   "execution_count": 13,
   "metadata": {},
   "outputs": [],
   "source": [
    "# Use Loop to find number of letter\n",
    "for line in file_contents:\n",
    "        wordlist=line.split()\n",
    "        num_letter+= len(line)"
   ]
  },
  {
   "cell_type": "code",
   "execution_count": 17,
   "metadata": {},
   "outputs": [],
   "source": [
    "# Calculation \n",
    "average_sentence=round(float(num_words)/float(num_sent),2)\n",
    "\n",
    "average_letters=(float(num_letter)/float(num_words))"
   ]
  },
  {
   "cell_type": "code",
   "execution_count": 18,
   "metadata": {},
   "outputs": [
    {
     "name": "stdout",
     "output_type": "stream",
     "text": [
      "Paragrah Analysis #2\n",
      "----------------\n",
      "Approximate Word Count: 285\n",
      "Approximate Sentence Count: 11\n",
      "Average Letter Count: 12.554385964912282\n",
      "Average Sentence Length: 25.91\n"
     ]
    }
   ],
   "source": [
    "#Output\n",
    "print(\"Paragrah Analysis #2\")\n",
    "print(\"----------------\")\n",
    "print(\"Approximate Word Count:\", num_words)\n",
    "print(\"Approximate Sentence Count:\", num_sent)\n",
    "print(\"Average Letter Count:\", average_letters)\n",
    "print(\"Average Sentence Length:\", average_sentence)"
   ]
  },
  {
   "cell_type": "code",
   "execution_count": null,
   "metadata": {
    "collapsed": true
   },
   "outputs": [],
   "source": []
  }
 ],
 "metadata": {
  "kernelspec": {
   "display_name": "Python 3",
   "language": "python",
   "name": "python3"
  },
  "language_info": {
   "codemirror_mode": {
    "name": "ipython",
    "version": 3
   },
   "file_extension": ".py",
   "mimetype": "text/x-python",
   "name": "python",
   "nbconvert_exporter": "python",
   "pygments_lexer": "ipython3",
   "version": "3.6.2"
  }
 },
 "nbformat": 4,
 "nbformat_minor": 2
}
